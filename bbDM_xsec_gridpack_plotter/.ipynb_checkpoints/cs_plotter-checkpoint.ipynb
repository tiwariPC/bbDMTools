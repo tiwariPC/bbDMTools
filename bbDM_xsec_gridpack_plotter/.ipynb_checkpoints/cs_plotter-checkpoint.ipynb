{
 "cells": [
  {
   "cell_type": "code",
   "execution_count": 1,
   "metadata": {},
   "outputs": [
    {
     "name": "stdout",
     "output_type": "stream",
     "text": [
      "Welcome to JupyROOT 6.14/02\n"
     ]
    }
   ],
   "source": [
    "import os,sys,ROOT,operator,math\n",
    "import matplotlib.pyplot as plt\n",
    "from array import array"
   ]
  },
  {
   "cell_type": "code",
   "execution_count": 2,
   "metadata": {},
   "outputs": [],
   "source": [
    "def SetCanvas():\n",
    "    # CMS inputs\n",
    "    # -------------\n",
    "    H_ref = 1000;\n",
    "    W_ref = 1000;\n",
    "    W = W_ref\n",
    "    H  = H_ref\n",
    "    T = 0.08*H_ref\n",
    "    B = 0.21*H_ref\n",
    "    L = 0.12*W_ref\n",
    "    R = 0.08*W_ref\n",
    "    # --------------\n",
    "    c1 = ROOT.TCanvas(\"c2\",\"c2\",0,0,1500,1500)\n",
    "    c1.SetFillColor(0)\n",
    "    c1.SetBorderMode(0)\n",
    "    c1.SetFrameFillStyle(0)\n",
    "    c1.SetFrameBorderMode(0)\n",
    "    c1.SetLeftMargin( L/W )\n",
    "    c1.SetRightMargin( R/W )\n",
    "    c1.SetTopMargin( T/H )\n",
    "    c1.SetBottomMargin( B/H )\n",
    "    c1.SetTickx(0)\n",
    "    c1.SetTicky(0)\n",
    "    c1.SetTickx(0)\n",
    "    c1.SetTicky(0)\n",
    "    c1.SetGridy(0)\n",
    "    c1.SetGridx(0)\n",
    "    return c1\n",
    "\n",
    "def CreateLegend(x1, y1, x2, y2, header):\n",
    "    leg = ROOT.TLegend(x1, x2, y1, y2)\n",
    "    leg.SetFillColor(0)\n",
    "    leg.SetFillStyle(3002)\n",
    "    leg.SetBorderSize(0)\n",
    "    leg.SetHeader(header)\n",
    "    return leg\n",
    "\n",
    "def drawHisto(h,draw='hist'):\n",
    "    h.Draw(draw)\n",
    "    return"
   ]
  },
  {
   "cell_type": "code",
   "execution_count": 3,
   "metadata": {},
   "outputs": [
    {
     "name": "stdout",
     "output_type": "stream",
     "text": [
      "['1000', '200', '10', '35', '0.7', 'pp', '3.530e-01', '2.0e-02']\n",
      "['1000', '300', '10', '35', '0.7', 'pp', '1.668e-01', '7.3e-03']\n",
      "['1000', '400', '10', '35', '0.7', 'pp', '8.425e-02', '4.5e-03']\n",
      "['1000', '500', '10', '35', '0.7', 'pp', '3.817e-02', '2.6e-03']\n",
      "['1000', '600', '10', '35', '0.7', 'pp', '2.332e-02', '1.2e-03']\n",
      "['1000', '700', '10', '35', '0.7', 'pp', '1.344e-02', '6.2e-04']\n",
      "['1000', '800', '10', '35', '0.7', 'pp', '7.667e-03', '4.6e-04']\n",
      "['1000', '900', '10', '35', '0.7', 'pp', '4.551e-03', '2.3e-04']\n",
      "['1200', '1000', '10', '35', '0.7', 'pp', '2.901e-03', '1.4e-04']\n",
      "['1200', '100', '10', '35', '0.7', 'pp', '6.611e-01', '3.2e-02']\n",
      "['1200', '200', '10', '35', '0.7', 'pp', '3.253e-01', '1.8e-02']\n",
      "['1200', '300', '10', '35', '0.7', 'pp', '1.482e-01', '8.4e-03']\n",
      "['1200', '400', '10', '35', '0.7', 'pp', '7.898e-02', '3.9e-03']\n",
      "['1200', '500', '10', '35', '0.7', 'pp', '4.024e-02', '2.2e-03']\n",
      "['1200', '600', '10', '35', '0.7', 'pp', '2.689e-02', '1.4e-03']\n",
      "['1200', '700', '10', '35', '0.7', 'pp', '1.233e-02', '1.0e-03']\n",
      "['1200', '800', '10', '35', '0.7', 'pp', '7.396e-03', '3.8e-04']\n",
      "['1200', '900', '10', '35', '0.7', 'pp', '5.290e-03', '2.1e-04']\n",
      "['200', '100', '10', '35', '0.7', 'pp', '7.097e-01', '3.8e-02']\n",
      "['400', '100', '10', '35', '0.7', 'pp', '7.079e-01', '3.5e-02']\n",
      "['400', '200', '10', '35', '0.7', 'pp', '2.801e-01', '1.8e-02']\n",
      "['400', '300', '10', '35', '0.7', 'pp', '1.814e-01', '9.0e-03']\n",
      "['600', '100', '10', '35', '0.7', 'pp', '7.387e-01', '3.8e-02']\n",
      "['600', '200', '10', '35', '0.7', 'pp', '3.411e-01', '1.8e-02']\n",
      "['600', '300', '10', '35', '0.7', 'pp', '1.643e-01', '8.1e-03']\n",
      "['600', '400', '10', '35', '0.7', 'pp', '8.546e-02', '4.7e-03']\n",
      "['600', '500', '10', '35', '0.7', 'pp', '5.136e-02', '2.2e-03']\n",
      "['800', '100', '10', '35', '0.7', 'pp', '6.967e-01', '3.0e-02']\n",
      "['800', '200', '10', '35', '0.7', 'pp', '3.218e-01', '1.8e-02']\n",
      "['800', '400', '10', '35', '0.7', 'pp', '8.438e-02', '5.6e-03']\n",
      "['800', '500', '10', '35', '0.7', 'pp', '4.026e-02', '1.8e-03']\n",
      "['800', '600', '10', '35', '0.7', 'pp', '2.593e-02', '1.7e-03']\n",
      "['800', '700', '10', '35', '0.7', 'pp', '1.591e-02', '7.7e-04']\n",
      "[100, 200, 300, 400, 500, 600, 700, 800, 900, 1000]\n"
     ]
    }
   ],
   "source": [
    "file = open('cross_section.txt', 'r')\n",
    "\n",
    "MH4=set()\n",
    "for line in file:\n",
    "    if not 'mA' in line:\n",
    "        print(line.split())\n",
    "        MH4.update([int(line.split()[1])])\n",
    "MH4 = sorted(MH4,reverse=False)\n",
    "print(MH4)"
   ]
  },
  {
   "cell_type": "code",
   "execution_count": 6,
   "metadata": {},
   "outputs": [
    {
     "name": "stdout",
     "output_type": "stream",
     "text": [
      "[(200.0, 0.7097), (400.0, 0.7079), (600.0, 0.7387), (800.0, 0.6967), (1200.0, 0.6611)]\n",
      "[(400.0, 0.2801), (600.0, 0.3411), (800.0, 0.3218), (1000.0, 0.353), (1200.0, 0.3253)]\n",
      "[(400.0, 0.1814), (600.0, 0.1643), (1000.0, 0.1668), (1200.0, 0.1482)]\n",
      "[(600.0, 0.08546), (800.0, 0.08438), (1000.0, 0.08425), (1200.0, 0.07898)]\n",
      "[(600.0, 0.05136), (800.0, 0.04026), (1000.0, 0.03817), (1200.0, 0.04024)]\n",
      "[(800.0, 0.02593), (1000.0, 0.02332), (1200.0, 0.02689)]\n",
      "[(800.0, 0.01591), (1000.0, 0.01344), (1200.0, 0.01233)]\n",
      "[(1000.0, 0.007667), (1200.0, 0.007396)]\n",
      "[(1000.0, 0.004551), (1200.0, 0.00529)]\n",
      "[(1200.0, 0.002901)]\n",
      "{<ROOT.TGraph object (\"Graph\") at 0x7fa0ba79b480>: 100, <ROOT.TGraph object (\"Graph\") at 0x7fa0ba7bd880>: 200, <ROOT.TGraph object (\"Graph\") at 0x7fa0ba7c7270>: 300, <ROOT.TGraph object (\"Graph\") at 0x7fa0bb32df40>: 400, <ROOT.TGraph object (\"Graph\") at 0x7fa0bb3338a0>: 500}\n"
     ]
    },
    {
     "name": "stderr",
     "output_type": "stream",
     "text": [
      "Info in <TCanvas::Print>: pdf file Xsec_Ma_100.pdf has been created\n",
      "Info in <TCanvas::Print>: pdf file Xsec_Ma_200.pdf has been created\n",
      "Info in <TCanvas::Print>: pdf file Xsec_Ma_300.pdf has been created\n",
      "Info in <TCanvas::Print>: pdf file Xsec_Ma_400.pdf has been created\n",
      "Info in <TCanvas::Print>: pdf file Xsec_Ma_500.pdf has been created\n",
      "Info in <TCanvas::Print>: pdf file Xsec_Ma_600.pdf has been created\n",
      "Info in <TCanvas::Print>: pdf file Xsec_Ma_700.pdf has been created\n",
      "Info in <TCanvas::Print>: pdf file Xsec_Ma_800.pdf has been created\n",
      "Info in <TCanvas::Print>: pdf file Xsec_Ma_900.pdf has been created\n",
      "Info in <TCanvas::Print>: pdf file Xsec_Ma_1000.pdf has been created\n",
      "Info in <TCanvas::Print>: pdf file Xsection_Ma.pdf has been created\n"
     ]
    }
   ],
   "source": [
    "myTGraph = []\n",
    "myTGraph_dict = {}\n",
    "for ele in MH4:\n",
    "    #print(ele)\n",
    "    onedplot = {}\n",
    "    file = open('cross_section.txt', 'r')\n",
    "    for line in file:        \n",
    "        if line.split()[1] == str(ele) and line.split()[2] == '10':\n",
    "            onedplot.update({float(line.split()[0]):float(line.split()[-2])})\n",
    "    onedplot_sorted = sorted(onedplot.items(), key=operator.itemgetter(0))\n",
    "    print(onedplot_sorted)\n",
    "    x, y = zip(*onedplot_sorted)\n",
    "    ROOT.gStyle.SetFrameLineWidth(3)\n",
    "    ROOT.gStyle.SetOptTitle(0)\n",
    "    ROOT.gStyle.SetOptStat(0)\n",
    "    ROOT.gStyle.SetLegendBorderSize(2)\n",
    "    ROOT.gStyle.SetFillColor(2)\n",
    "    ROOT.gStyle.SetLineWidth(2)\n",
    "    c=ROOT.TCanvas()\n",
    "\n",
    "    latex = ROOT.TLatex();\n",
    "    latex.SetNDC();\n",
    "    latex.SetTextSize(0.04);\n",
    "    latex.SetTextAlign(31);\n",
    "    latex.SetTextAlign(11);\n",
    "    n=len(x)\n",
    "    xp = array(\"d\",x)\n",
    "    yp = array(\"d\",y)\n",
    "\n",
    "    gr = ROOT.TGraph( n, xp, yp )\n",
    "    #gr.SetTitle(\"Signal Efficiency Vs MH4\")\n",
    "    gr.GetXaxis().SetTitle(\"M_{A}[GeV]\")\n",
    "    gr.GetYaxis().SetTitle(\"Cross Section [pb]                          \")\n",
    "    if ele < 600:\n",
    "        myTGraph.append(gr)\n",
    "        myTGraph_dict.update({gr:ele})\n",
    "    gr.SetLineColor(2)\n",
    "    gr.Draw(\"AC*\")\n",
    "    latex.DrawLatex(0.18, 0.93, \"2HDM+a,  b#bar{b} + DM         M_{a}=\"+str(ele))#r\"                             35.9 fb^{-1}(13 TeV)\");\n",
    "\n",
    "    c.SaveAs(\"Xsec_Ma_\"+str(ele)+\".pdf\")\n",
    "\n",
    "c1 = SetCanvas()\n",
    "leg = CreateLegend(0.65, 0.91, 0.6, 0.91, \"\")\n",
    "print (myTGraph_dict)\n",
    "#     myTGraph[0].SetLineColor(1)\n",
    "#     myTGraph[0].GetYaxis().SetRangeUser(0,1)\n",
    "#     myTGraph[0].Draw(\"AC*\")\n",
    "#     leg.AddEntry(myTGraph[0], 'MH4: '+str(myTGraph_dict[myTGraph[0]]) , 'l')\n",
    "#     latex.DrawLatex(0.18, 0.93, \"2HDM+a,   b#bar{b} + DM\")#r\" \n",
    "#print(myTGraph[0])\n",
    "for i in range(len(myTGraph)):\n",
    "    myTGraph[i].SetLineColor(i+1)\n",
    "    myTGraph[i].GetYaxis().SetRangeUser(0,1)\n",
    "    if i == 0:\n",
    "        myTGraph[i].Draw(\"AC*\")\n",
    "        myTGraph[i].GetXaxis().SetRangeUser(80.,1250.)\n",
    "        myTGraph[i].Draw(\"AC*\")\n",
    "        latex.DrawLatex(0.12, .94, \"2HDM+a b#bar{b} + DM\"+\" \"*13+\"tan#beta = 35 sin#theta = 0.707\")#r\"\n",
    "    else:\n",
    "        myTGraph[i].Draw(\"same\")\n",
    "    leg.AddEntry(myTGraph[i], 'M_{a}: '+str(myTGraph_dict[myTGraph[i]]) , 'l')\n",
    "leg.Draw(\"same\")\n",
    "#c1.SetLogy()\n",
    "c1.Update()\n",
    "#c1.SaveAs(s+'_'+l+'_'+mh+'new.pdf')\n",
    "c1.SaveAs('Xsection_Ma.pdf')\n",
    "c1.Close()"
   ]
  },
  {
   "cell_type": "code",
   "execution_count": null,
   "metadata": {},
   "outputs": [],
   "source": []
  }
 ],
 "metadata": {
  "kernelspec": {
   "display_name": "Python 3",
   "language": "python",
   "name": "python3"
  },
  "language_info": {
   "codemirror_mode": {
    "name": "ipython",
    "version": 3
   },
   "file_extension": ".py",
   "mimetype": "text/x-python",
   "name": "python",
   "nbconvert_exporter": "python",
   "pygments_lexer": "ipython3",
   "version": "3.7.0"
  }
 },
 "nbformat": 4,
 "nbformat_minor": 2
}
