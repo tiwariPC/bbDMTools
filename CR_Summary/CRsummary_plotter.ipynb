{
 "cells": [
  {
   "cell_type": "code",
   "execution_count": 1,
   "metadata": {},
   "outputs": [
    {
     "name": "stdout",
     "output_type": "stream",
     "text": [
      "Welcome to JupyROOT 6.14/02\n"
     ]
    }
   ],
   "source": [
    "from ROOT import TFile,kBlue,kAzure,kCyan,kGray,kOrange,kOrange,kViolet,kGreen ,kBlack,THStack,TLatex, TGraph, TTree, TH1F,  TCanvas, TChain, TMath, TLorentzVector, AddressOf, gROOT, TNamed, gStyle, TLegend,TString\n",
    "import os\n",
    "import glob\n",
    "from array import array\n",
    "\n",
    "gStyle.SetFrameLineWidth(3)\n",
    "gStyle.SetOptTitle(0)\n",
    "gStyle.SetOptStat(0)\n",
    "gStyle.SetLegendBorderSize(2)\n",
    "gStyle.SetFillColor(2)\n",
    "gStyle.SetLineWidth(1)\n",
    "c=TCanvas()\n",
    "c.SetLogy()\n",
    "labels=['1mu1b','1mu2b','2mu1b','2mu2b','1e1b','1e2b','2e1b','2e2b']#,'1e1mu2b']\n",
    "#labels=['1hahamu1b','1hohoe1b','1nonomu2b','1e2b','2mu1b','2e1b','2mu2b','2e2b']\n",
    "\n",
    "legend=TLegend(0.68, 0.70, 0.94,0.89)\n",
    "legend.SetNColumns(2)\n",
    "legend.SetTextSize(0.030)\n",
    "legend.SetBorderSize(0)\n",
    "legend.SetLineColor(1)\n",
    "legend.SetLineStyle(1)\n",
    "legend.SetLineWidth(1)\n",
    "legend.SetFillColor(0)\n",
    "legend.SetFillStyle(0)\n",
    "legend.SetTextFont(42)\n",
    "\n",
    "leg_entry=['VV','ZJets','GJets','QCD','STop','TT','WJets','DYJets','Data']\n",
    "\n",
    "h_DIBOSON=TH1F(\"h_DIBOSON\",'CR Summary plot',len(labels),0,len(labels))\n",
    "h_ZJets=TH1F(\"h_ZJets\",'CR Summary plot',len(labels),0,len(labels))\n",
    "h_GJets=TH1F(\"h_GJets\",'CR Summary plot',len(labels),0,len(labels))\n",
    "h_QCD=TH1F(\"h_QCD\",'CR Summary plot',len(labels),0,len(labels))\n",
    "h_STop=TH1F(\"h_STop\",'CR Summary plot',len(labels),0,len(labels))\n",
    "h_TT=TH1F(\"h_TT\",'CR Summary plot',len(labels),0,len(labels))\n",
    "h_WJets=TH1F(\"h_WJets\",'CR Summary plot',len(labels),0,len(labels))\n",
    "h_DYJets=TH1F(\"h_DYJets\",'CR Summary plot',len(labels),0,len(labels))\n",
    "h_data=TH1F(\"h_data\",'CR Summary plot',len(labels),0,len(labels))\n",
    "\n",
    "myHists=[h_GJets,h_DIBOSON,h_ZJets,h_QCD,h_STop,h_TT,h_WJets,h_DYJets]\n",
    "colors=[kBlue+2,kAzure+1,kCyan-9,kGray+1,kOrange+1,kOrange-2,kViolet-3,kGreen+2]"
   ]
  },
  {
   "cell_type": "code",
   "execution_count": 2,
   "metadata": {},
   "outputs": [],
   "source": [
    "path='2016/CR.root'\n",
    "\n",
    "latex =  TLatex();\n",
    "latex.SetNDC();\n",
    "latex.SetTextSize(0.04);\n",
    "latex.SetTextAlign(33);\n",
    "latex.SetTextAlign(12);"
   ]
  },
  {
   "cell_type": "code",
   "execution_count": 3,
   "metadata": {},
   "outputs": [
    {
     "name": "stdout",
     "output_type": "stream",
     "text": [
      "<ROOT.TFile object (\"2016/CR.root\") at 0x7ff3987d69d0>\n"
     ]
    }
   ],
   "source": [
    "files=sorted(glob.glob(path))\n",
    "\n",
    "for file in files:\n",
    "    f=TFile.Open(file,'read')\n",
    "    print(f)\n",
    "    h_DIBOSON=f.Get('DIBOSON')\n",
    "    h_ZJets=f.Get('ZJets')\n",
    "    h_GJets=f.Get('GJets')\n",
    "    h_QCD=f.Get('QCD')\n",
    "    h_STop=f.Get('STop')\n",
    "    h_TT=f.Get('TT')\n",
    "    h_Wjets=f.Get('WJets')\n",
    "    h_DYJets=f.Get('DYJets')\n",
    "    h_mydata=f.Get('data_obs')\n",
    "    gotHists=[h_GJets,h_DIBOSON,h_ZJets,h_QCD,h_STop,h_TT,h_Wjets,h_DYJets]\n",
    "\n",
    "    h_data.SetBinContent(1, h_mydata.GetBinContent(1))\n",
    "    h_data.SetBinContent(2, h_mydata.GetBinContent(2))\n",
    "    h_data.SetBinContent(3, h_mydata.GetBinContent(3))\n",
    "    h_data.SetBinContent(4, h_mydata.GetBinContent(4))\n",
    "    h_data.SetBinContent(5, h_mydata.GetBinContent(1))\n",
    "    h_data.SetBinContent(6, h_mydata.GetBinContent(2))\n",
    "    h_data.SetBinContent(7, h_mydata.GetBinContent(3))\n",
    "    h_data.SetBinContent(8, h_mydata.GetBinContent(4))\n",
    "\n",
    "    for i in range(len(gotHists)):\n",
    "        legend.AddEntry(myHists[i],leg_entry[i],\"F\")\n",
    "        myHists[i].SetFillColor(colors[i])\n",
    "        myHists[i].SetMaximum(1000000)\n",
    "        myHists[i].GetYaxis().SetRangeUser(1,1000000)\n",
    "        myHists[i].SetBinContent(1, gotHists[i].GetBinContent(1))\n",
    "        myHists[i].GetXaxis().SetBinLabel(1, labels[0])\n",
    "        myHists[i].SetBinContent(2, gotHists[i].GetBinContent(2))\n",
    "        myHists[i].GetXaxis().SetBinLabel(2, labels[1])\n",
    "        myHists[i].SetBinContent(3, gotHists[i].GetBinContent(3))\n",
    "        myHists[i].GetXaxis().SetBinLabel(3, labels[2])\n",
    "        myHists[i].SetBinContent(4, gotHists[i].GetBinContent(4))\n",
    "        myHists[i].GetXaxis().SetBinLabel(4, labels[3])\n",
    "        myHists[i].SetBinContent(5, gotHists[i].GetBinContent(7))\n",
    "        myHists[i].GetXaxis().SetBinLabel(5, labels[4])\n",
    "        myHists[i].SetBinContent(6, gotHists[i].GetBinContent(8))\n",
    "        myHists[i].GetXaxis().SetBinLabel(6, labels[5])\n",
    "        myHists[i].SetBinContent(7, gotHists[i].GetBinContent(9))\n",
    "        myHists[i].GetXaxis().SetBinLabel(7, labels[6])\n",
    "        myHists[i].SetBinContent(8, gotHists[i].GetBinContent(10))\n",
    "        myHists[i].GetXaxis().SetBinLabel(8, labels[7])"
   ]
  },
  {
   "cell_type": "code",
   "execution_count": 4,
   "metadata": {},
   "outputs": [
    {
     "name": "stderr",
     "output_type": "stream",
     "text": [
      "Info in <TCanvas::Print>: pdf file CRSummary_2016.pdf has been created\n",
      "Info in <TCanvas::Print>: png file CRSummary_2016.png has been created\n"
     ]
    }
   ],
   "source": [
    "hs=THStack('hs','CR Summary ')\n",
    "for i in myHists:\n",
    "    hs.Add(i)\n",
    "hs.SetMaximum(100000)\n",
    "hs.SetMinimum(1)\n",
    "hs.Draw()\n",
    "hs.GetYaxis().SetTitle(\"#events\");\n",
    "c.Modified();\n",
    "latex.DrawLatex(0.1, 0.93, \"#bf{CMS} #it{Preliminary}\"+\" \"*54+\"35.5 fb^{-1} (13 TeV)\")\n",
    "h_data.SetStats(0)\n",
    "h_data.SetLineColor(1)\n",
    "h_data.SetMarkerColor(kBlack)\n",
    "h_data.SetMarkerStyle(20)\n",
    "h_data.SetMarkerSize(1.5)\n",
    "legend.AddEntry(h_data,\"Data\",\"pEL\")\n",
    "legend.Draw(\"same\")\n",
    "h_data.Draw('same p e1')\n",
    "c.SaveAs(\"CRSummary_2016.pdf\")\n",
    "c.SaveAs(\"CRSummary_2016.png\")"
   ]
  }
 ],
 "metadata": {
  "kernelspec": {
   "display_name": "Python 3",
   "language": "python",
   "name": "python3"
  },
  "language_info": {
   "codemirror_mode": {
    "name": "ipython",
    "version": 3
   },
   "file_extension": ".py",
   "mimetype": "text/x-python",
   "name": "python",
   "nbconvert_exporter": "python",
   "pygments_lexer": "ipython3",
   "version": "3.7.0"
  }
 },
 "nbformat": 4,
 "nbformat_minor": 2
}
