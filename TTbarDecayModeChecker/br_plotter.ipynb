{
 "cells": [
  {
   "cell_type": "code",
   "execution_count": 1,
   "metadata": {},
   "outputs": [
    {
     "name": "stdout",
     "output_type": "stream",
     "text": [
      "Welcome to JupyROOT 6.14/02\n"
     ]
    }
   ],
   "source": [
    "#!/usr/bin/env python\n",
    "from ROOT import TFile, TTree, TH1F, TH1D, TH1, TCanvas, TChain,TGraphAsymmErrors, TMath, TH2D, TLorentzVector, TF1, AddressOf\n",
    "import ROOT as ROOT\n",
    "import os\n",
    "import random\n",
    "import sys, optparse\n",
    "from array import array\n",
    "import math\n",
    "ROOT.gROOT.SetBatch(True)"
   ]
  },
  {
   "cell_type": "code",
   "execution_count": 23,
   "metadata": {},
   "outputs": [
    {
     "name": "stdout",
     "output_type": "stream",
     "text": [
      "10814.0\n",
      "NEntries = 302\n",
      "Branching fraction for hadronic 0.019511744035509523\n",
      "Branching fraction for semilep 0.007582763084889957\n",
      "Branching fraction for dilep 0.0008322544849269465\n",
      "Branching fraction for unknown 0.0\n",
      "\n",
      " \n",
      "\n",
      "Branching fraction for hadronic_st 0.6986754966887417\n",
      "Branching fraction for semilep_st 0.271523178807947\n",
      "Branching fraction for dilep_st 0.029801324503311258\n"
     ]
    }
   ],
   "source": [
    "skimmedTree = TChain(\"outTree\")\n",
    "skimmedTree.Add('SkimmedTree.root')\n",
    "## for histograms\n",
    "f_tmp = TFile.Open('SkimmedTree.root','READ')\n",
    "h_tmp = f_tmp.Get('h_total')\n",
    "h_tmp_weight = f_tmp.Get('h_total_mcweight')\n",
    "\n",
    "print(str(h_tmp.Integral()))\n",
    "\n",
    "NEntries = skimmedTree.GetEntries()\n",
    "print ('NEntries = '+str(NEntries))\n",
    "\n",
    "zerol_cat=[]\n",
    "onel_cat=[]\n",
    "twol_cat=[]\n",
    "minusonel_cat=[]\n",
    "for ievent in range(NEntries):\n",
    "    skimmedTree.GetEntry(ievent)\n",
    "    lepCategoryVec  = skimmedTree.__getattr__('st_LepCategory')\n",
    "    lepCategory     = lepCategoryVec[0]\n",
    "    if lepCategory==0:\n",
    "        zerol_cat.append(lepCategory)\n",
    "    elif lepCategory==1:\n",
    "        onel_cat.append(lepCategory)\n",
    "    elif lepCategory==2:\n",
    "        twol_cat.append(lepCategory)\n",
    "    elif lepCategory==-1:\n",
    "        minusonel_cat.append(lepCategory)\n",
    "        \n",
    "br_had = float(len(zerol_cat))/float(h_tmp.Integral())\n",
    "br_semilep = float(len(onel_cat))/float(h_tmp.Integral())\n",
    "br_dilep = float(len(twol_cat))/float(h_tmp.Integral())\n",
    "br_unknown = float(len(minusonel_cat))/float(h_tmp.Integral())\n",
    "\n",
    "br_had_st = float(len(zerol_cat))/float(NEntries)\n",
    "br_semilep_st = float(len(onel_cat))/float(NEntries)\n",
    "br_dilep_st = float(len(twol_cat))/float(NEntries)\n",
    "\n",
    "\n",
    "print ('Branching fraction for hadronic '+str(br_had))\n",
    "print ('Branching fraction for semilep '+str(br_semilep))\n",
    "print ('Branching fraction for dilep '+str(br_dilep))\n",
    "print ('Branching fraction for unknown '+str(br_unknown))\n",
    "print ('\\n \\n')\n",
    "print ('Branching fraction for hadronic_st '+str(br_had_st))\n",
    "print ('Branching fraction for semilep_st '+str(br_semilep_st))\n",
    "print ('Branching fraction for dilep_st '+str(br_dilep_st))\n",
    "        \n",
    "        "
   ]
  },
  {
   "cell_type": "code",
   "execution_count": null,
   "metadata": {},
   "outputs": [],
   "source": []
  }
 ],
 "metadata": {
  "kernelspec": {
   "display_name": "Python 3",
   "language": "python",
   "name": "python3"
  },
  "language_info": {
   "codemirror_mode": {
    "name": "ipython",
    "version": 3
   },
   "file_extension": ".py",
   "mimetype": "text/x-python",
   "name": "python",
   "nbconvert_exporter": "python",
   "pygments_lexer": "ipython3",
   "version": "3.7.0"
  }
 },
 "nbformat": 4,
 "nbformat_minor": 2
}
