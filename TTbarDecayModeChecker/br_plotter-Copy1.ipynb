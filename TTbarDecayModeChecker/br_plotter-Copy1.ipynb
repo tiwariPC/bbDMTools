{
 "cells": [
  {
   "cell_type": "code",
   "execution_count": 1,
   "metadata": {},
   "outputs": [
    {
     "name": "stdout",
     "output_type": "stream",
     "text": [
      "Welcome to JupyROOT 6.14/02\n"
     ]
    }
   ],
   "source": [
    "#!/usr/bin/env python\n",
    "from ROOT import TFile, TTree, TH1F, TH1D, TH1, TCanvas, TChain,TGraphAsymmErrors, TMath, TH2D, TLorentzVector, TF1, AddressOf\n",
    "import ROOT as ROOT\n",
    "import os\n",
    "import random\n",
    "import sys, optparse\n",
    "from array import array\n",
    "import math\n",
    "ROOT.gROOT.SetBatch(True)"
   ]
  },
  {
   "cell_type": "code",
   "execution_count": 2,
   "metadata": {},
   "outputs": [],
   "source": [
    "def ttbarDecayModeChecker(nGenPar,genParId,genMomParId,genParIndex):\n",
    "    mymu=[]\n",
    "    myel=[]\n",
    "    mytau=[]\n",
    "    W_hadCond=False\n",
    "    W_eleCond=False\n",
    "    W_muCond=False\n",
    "    W_tauCond=False\n",
    "    index_PID={}\n",
    "    for i in range(nGenPar):\n",
    "        index_PID.update({genParId[i]: genMomParId[i]})\n",
    "    for i in range(nGenPar):\n",
    "        if abs(genParId[i])==11 and abs(genMomParId[i])==24:\n",
    "            if abs(index_PID[genMomParId[i]])==6:\n",
    "                myel.append(1)\n",
    "                W_eleCond=True\n",
    "        if abs(genParId[i])==13 and abs(genMomParId[i])==24:\n",
    "            if abs(index_PID[genMomParId[i]])==6:\n",
    "                mymu.append(2)\n",
    "                W_muCond=True\n",
    "        if abs(genParId[i])==15 and abs(genMomParId[i])==24:\n",
    "            if abs(index_PID[genMomParId[i]])==6:\n",
    "                mytau.append(3)\n",
    "                W_tauCond=True \n",
    "        if (abs(genParId[i])!=11 and abs(genParId[i])!=13 and abs(genParId[i])!=15) and abs(genMomParId[i])==24:\n",
    "            if abs(index_PID[genMomParId[i]])==6:\n",
    "                W_hadCond=True\n",
    "     \n",
    "    numLep=len(mymu)+len(myel)+len(mytau)\n",
    "    if numLep==0 and not W_hadCond:\n",
    "        numLep = -1\n",
    "    return numLep"
   ]
  },
  {
   "cell_type": "code",
   "execution_count": 3,
   "metadata": {
    "scrolled": false
   },
   "outputs": [
    {
     "name": "stdout",
     "output_type": "stream",
     "text": [
      "NEntries = 9622\n",
      "\n",
      "\n",
      "9622 0 0 9619\n",
      "Branching fraction for hadronic 0.0\n",
      "Branching fraction for semilep 0.0\n",
      "Branching fraction for dilep 0.9996882145084182\n",
      "Branching fraction for unknown 0.0\n"
     ]
    }
   ],
   "source": [
    "skimmedTree = TChain(\"tree/treeMaker\")\n",
    "skimmedTree.Add('NCUGlobalTuples_81.root')\n",
    "#skimmedTree.Add('NCUGlobalTuples_981.root')\n",
    "#skimmedTree.Add('NCUGlobalTuples_982.root')\n",
    "\n",
    "NEntries = skimmedTree.GetEntries()\n",
    "print ('NEntries = '+str(NEntries))\n",
    "print('\\n')\n",
    "\n",
    "total_events=[]\n",
    "zerol_cat=[]\n",
    "onel_cat=[]\n",
    "twol_cat=[]\n",
    "minusonel_cat=[]\n",
    "for ievent in range(NEntries):\n",
    "    skimmedTree.GetEntry(ievent)\n",
    "    nGenPar                    = skimmedTree.__getattr__('nGenPar')\n",
    "    genParId                   = skimmedTree.__getattr__('genParId')\n",
    "    genMomParId                = skimmedTree.__getattr__('genMomParId')\n",
    "    genParSt                   = skimmedTree.__getattr__('genParSt')\n",
    "    genParIndex                = skimmedTree.__getattr__('genParIndex')\n",
    "    genParP4                   = skimmedTree.__getattr__('genParP4')\n",
    "    genDa1                     = skimmedTree.__getattr__('genDa1')\n",
    "    genDa2                     = skimmedTree.__getattr__('genDa2')\n",
    "    nEle                       = skimmedTree.__getattr__('nEle')\n",
    "    nMu                        = skimmedTree.__getattr__('nMu')\n",
    "    nTau                       = skimmedTree.__getattr__('HPSTau_n')\n",
    "    \n",
    "    total_events.append(1.)\n",
    "    lepCategory=ttbarDecayModeChecker(nGenPar,genParId,genMomParId,genParIndex)\n",
    "    if lepCategory==0:\n",
    "        zerol_cat.append(lepCategory)\n",
    "    elif lepCategory==1:\n",
    "        onel_cat.append(lepCategory)\n",
    "    elif lepCategory==2:\n",
    "        twol_cat.append(lepCategory)\n",
    "    elif lepCategory==-1:\n",
    "        minusonel_cat.append(lepCategory)\n",
    "\n",
    "print(len(total_events),len(zerol_cat),len(onel_cat),len(twol_cat))\n",
    "br_had = float(len(zerol_cat))/float(len(total_events))\n",
    "br_semilep = float(len(onel_cat))/float(len(total_events))\n",
    "br_dilep = float(len(twol_cat))/float(len(total_events))\n",
    "br_unknown = float(len(minusonel_cat))/float(len(total_events))\n",
    "\n",
    "\n",
    "print ('Branching fraction for hadronic '+str(br_had))\n",
    "print ('Branching fraction for semilep '+str(br_semilep))\n",
    "print ('Branching fraction for dilep '+str(br_dilep))\n",
    "print ('Branching fraction for unknown '+str(br_unknown))\n",
    "        \n",
    "        "
   ]
  },
  {
   "cell_type": "code",
   "execution_count": null,
   "metadata": {},
   "outputs": [],
   "source": []
  },
  {
   "cell_type": "markdown",
   "metadata": {},
   "source": [
    "**With W as Mother**\n",
    "\n",
    "NEntries = 11212\n",
    "\n",
    "11212 7741 3149 322\n",
    "\n",
    "Branching fraction for hadronic 0.6904209775240814\n",
    "\n",
    "Branching fraction for semilep 0.2808597930788441\n",
    "\n",
    "Branching fraction for dilep 0.028719229397074563\n",
    "\n",
    "Branching fraction for unknown 0.0"
   ]
  },
  {
   "cell_type": "code",
   "execution_count": null,
   "metadata": {},
   "outputs": [],
   "source": []
  }
 ],
 "metadata": {
  "kernelspec": {
   "display_name": "Python 3",
   "language": "python",
   "name": "python3"
  },
  "language_info": {
   "codemirror_mode": {
    "name": "ipython",
    "version": 3
   },
   "file_extension": ".py",
   "mimetype": "text/x-python",
   "name": "python",
   "nbconvert_exporter": "python",
   "pygments_lexer": "ipython3",
   "version": "3.7.0"
  }
 },
 "nbformat": 4,
 "nbformat_minor": 2
}
