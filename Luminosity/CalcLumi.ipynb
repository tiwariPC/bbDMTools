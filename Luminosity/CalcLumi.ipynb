{
 "cells": [
  {
   "cell_type": "code",
   "execution_count": null,
   "metadata": {},
   "outputs": [],
   "source": [
    "import os, sys, math\n",
    "out_fold = 'lumiInput'\n",
    "os.system('mkdir '+out_fold)\n",
    "crab_fold=sys.argv[1]\n",
    "listfolders = [f for f in os.listdir(crab_fold)]\n",
    "'''for fold1 in listfolders:\n",
    "    print(\"Report of \"+fold1+\"\\n\")\n",
    "    os.system(\"crab report \"+crab_fold+\"/\"+fold1)\n",
    "os.system('export PATH=$HOME/.local/bin:/cvmfs/cms-bril.cern.ch/brilconda/bin:$PATH')\n",
    "for fold1 in listfolders:\n",
    "     os.system(\"brilcalc lumi -b \\\"STABLE BEAMS\\\" -i \"+crab_fold+\"/\"+fold1+\"/results/processedLumis.json > \"+out_fold+\"/\"+fold1+\".txt\")\n",
    "     print(\"Integrated luminosity for  \"+fold1+\"\\n\")'''\n",
    "\n",
    "list_fold=[f for f in os.listdir(out_fold)]\n",
    "calc_Lumi=[]\n",
    "for file in list_fold:\n",
    "    if 'MET' in file:\n",
    "        f=open(out_fold+'/'+file, 'r')\n",
    "        for line in f:\n",
    "            if 'nfill' in line:\n",
    "                for lf in list(f):\n",
    "                    if '|' in lf:\n",
    "                        calc_Lumi.append(lf.split('|')[-2])\n",
    "lumi_array_float=[]\n",
    "for calc in calc_Lumi:\n",
    "    lumi_array_float.append(float(calc))\n",
    "total_lumi=sum(lumi_array_float)*(10**-9)\n",
    "\n",
    "##py2tex(str(round(total_lumi,4))+'*fb**-1')\n",
    "print (str(total_lumi)+'fb^-1')"
   ]
  },
  {
   "cell_type": "code",
   "execution_count": null,
   "metadata": {},
   "outputs": [],
   "source": []
  }
 ],
 "metadata": {
  "kernelspec": {
   "display_name": "Python 3",
   "language": "python",
   "name": "python3"
  },
  "language_info": {
   "codemirror_mode": {
    "name": "ipython",
    "version": 3
   },
   "file_extension": ".py",
   "mimetype": "text/x-python",
   "name": "python",
   "nbconvert_exporter": "python",
   "pygments_lexer": "ipython3",
   "version": "3.7.0"
  }
 },
 "nbformat": 4,
 "nbformat_minor": 2
}
